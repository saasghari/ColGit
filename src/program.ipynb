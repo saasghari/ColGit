{
  "cells": [
    {
      "cell_type": "markdown",
      "id": "6986e0e0",
      "metadata": {
        "id": "6986e0e0"
      },
      "source": [
        "# **Github + Google Colab**\n",
        "##### In this project we test connection between github and google colab.\n",
        "###### We write program in local jypyter notebook in VSCode. Then push it to a github repository. Finally we run our program on google colab."
      ]
    },
    {
      "cell_type": "code",
      "execution_count": 3,
      "id": "1c24ac1e",
      "metadata": {
        "colab": {
          "base_uri": "https://localhost:8080/"
        },
        "id": "1c24ac1e",
        "outputId": "4a71b08f-9092-4f10-bd02-82ebca466639"
      },
      "outputs": [
        {
          "name": "stdout",
          "output_type": "stream",
          "text": [
            "Hello!\n",
            "Welcome to my program\n"
          ]
        }
      ],
      "source": [
        "print(\"Hello!\")\n",
        "print(\"Welcome to my program\")"
      ]
    },
    {
      "cell_type": "code",
      "execution_count": 2,
      "id": "egGBujRRow2d",
      "metadata": {
        "colab": {
          "base_uri": "https://localhost:8080/"
        },
        "id": "egGBujRRow2d",
        "outputId": "9ebf25c0-38a0-493f-927d-c11446de215c"
      },
      "outputs": [
        {
          "name": "stdout",
          "output_type": "stream",
          "text": [
            "google colab\n"
          ]
        }
      ],
      "source": [
        "# code in google colab\n",
        "print(\"google colab\")"
      ]
    },
    {
      "cell_type": "markdown",
      "id": "8a38135b",
      "metadata": {},
      "source": [
        "## **Package**\n",
        "#### work with packages in google colab\n",
        "###### In this step we test mappymatch package in google colab."
      ]
    },
    {
      "cell_type": "code",
      "execution_count": null,
      "id": "f4d73aed",
      "metadata": {},
      "outputs": [],
      "source": [
        "# install packages\n",
        "\n",
        "###   !pip install mappymatch"
      ]
    },
    {
      "cell_type": "code",
      "execution_count": null,
      "id": "2924a4e0",
      "metadata": {},
      "outputs": [
        {
          "name": "stdout",
          "output_type": "stream",
          "text": [
            "F:\\Projects\\Trajectory\\prjs\\ColGit\\ColGit\\src\\..\\data\\sample_trace_3.csv\n"
          ]
        }
      ],
      "source": [
        "##### initialize dataset parameters\n",
        "\n",
        "# for local\n",
        "import pathlib as path\n",
        "data_path=path.Path().resolve() / \"../data/sample_trace_3.csv\"\n",
        "\n",
        "# for github\n",
        "###     !wget \"https://raw.githubusercontent.com/saasghari/ColGit/refs/heads/master/data/sample_trace_3.csv\"\n",
        "###     data_path=\"/content/sample_trace_3.csv\"\n",
        "\n",
        "# for google drive\n",
        "###     from google.colab import drive\n",
        "###     drive.mount(\"/content/drive\")\n",
        "###     data_path=\"/content/drive/MyDrive/ColGit_data/sample_trace_3.csv\" \n",
        "\n",
        "# for google colab\n",
        "###     data_path=ps.Path().resolve() / \"../data/sample_trace_3.csv\"\n",
        "\n",
        "print(data_path)"
      ]
    },
    {
      "cell_type": "code",
      "execution_count": null,
      "id": "4b71cecc",
      "metadata": {},
      "outputs": [
        {
          "name": "stdout",
          "output_type": "stream",
          "text": [
            "    latitude   longitude\n",
            "0  39.655210 -104.919169\n",
            "1  39.655449 -104.919274\n",
            "2  39.655690 -104.919381\n",
            "3  39.655936 -104.919486\n",
            "4  39.656182 -104.919593\n"
          ]
        }
      ],
      "source": [
        "#####  load data (local)\n",
        "from mappymatch import package_root\n",
        "import pandas as pd\n",
        "\n",
        "df = pd.read_csv(data_path)\n",
        "print(df.head())\n",
        "\n",
        "from mappymatch.constructs.trace import Trace\n",
        "trace = Trace.from_csv(\n",
        "    data_path,\n",
        "    lat_column=\"latitude\",\n",
        "    lon_column=\"longitude\",\n",
        "    xy=True,\n",
        ")"
      ]
    }
  ],
  "metadata": {
    "colab": {
      "provenance": []
    },
    "kernelspec": {
      "display_name": "ColGit_venv",
      "language": "python",
      "name": "python3"
    },
    "language_info": {
      "codemirror_mode": {
        "name": "ipython",
        "version": 3
      },
      "file_extension": ".py",
      "mimetype": "text/x-python",
      "name": "python",
      "nbconvert_exporter": "python",
      "pygments_lexer": "ipython3",
      "version": "3.12.5"
    }
  },
  "nbformat": 4,
  "nbformat_minor": 5
}
