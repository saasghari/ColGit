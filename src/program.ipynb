{
 "cells": [
  {
   "cell_type": "markdown",
   "id": "6986e0e0",
   "metadata": {},
   "source": [
    "# Github + Google Colab\n",
    "##### In this project we test connection between github and google colab. \n",
    "###### We write program in local jypyter notebook in VSCode. Then push it to a github repository. Finally we run our program on google colab. "
   ]
  },
  {
   "cell_type": "code",
   "execution_count": null,
   "id": "1c24ac1e",
   "metadata": {},
   "outputs": [],
   "source": [
    "print(\"Hello!\")\n",
    "print(\"Welcome to my program\")"
   ]
  }
 ],
 "metadata": {
  "kernelspec": {
   "display_name": "Python 3",
   "language": "python",
   "name": "python3"
  },
  "language_info": {
   "name": "python",
   "version": "3.11.9"
  }
 },
 "nbformat": 4,
 "nbformat_minor": 5
}
