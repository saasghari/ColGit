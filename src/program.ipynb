{
  "cells": [
    {
      "cell_type": "markdown",
      "id": "6986e0e0",
      "metadata": {
        "id": "6986e0e0"
      },
      "source": [
        "# Github + Google Colab\n",
        "##### In this project we test connection between github and google colab.\n",
        "###### We write program in local jypyter notebook in VSCode. Then push it to a github repository. Finally we run our program on google colab."
      ]
    },
    {
      "cell_type": "code",
      "execution_count": null,
      "id": "1c24ac1e",
      "metadata": {
        "colab": {
          "base_uri": "https://localhost:8080/"
        },
        "id": "1c24ac1e",
        "outputId": "4a71b08f-9092-4f10-bd02-82ebca466639"
      },
      "outputs": [
        {
          "name": "stdout",
          "output_type": "stream",
          "text": [
            "Hello!\n",
            "Welcome to my program\n"
          ]
        }
      ],
      "source": [
        "print(\"Hello!\")\n",
        "print(\"Welcome to my program\")"
      ]
    },
    {
      "cell_type": "code",
      "source": [
        "# code in google colab\n",
        "print(\"google colab\")"
      ],
      "metadata": {
        "id": "egGBujRRow2d",
        "outputId": "9ebf25c0-38a0-493f-927d-c11446de215c",
        "colab": {
          "base_uri": "https://localhost:8080/"
        }
      },
      "id": "egGBujRRow2d",
      "execution_count": 1,
      "outputs": [
        {
          "output_type": "stream",
          "name": "stdout",
          "text": [
            "google colab\n"
          ]
        }
      ]
    }
  ],
  "metadata": {
    "colab": {
      "provenance": []
    },
    "kernelspec": {
      "display_name": "Python 3",
      "language": "python",
      "name": "python3"
    },
    "language_info": {
      "name": "python",
      "version": "3.11.9"
    }
  },
  "nbformat": 4,
  "nbformat_minor": 5
}