{
  "cells": [
    {
      "cell_type": "markdown",
      "id": "6986e0e0",
      "metadata": {
        "id": "6986e0e0"
      },
      "source": [
        "# Github + Google Colab\n",
        "##### In this project we test connection between github and google colab.\n",
        "###### We write program in local jypyter notebook in VSCode. Then push it to a github repository. Finally we run our program on google colab."
      ]
    },
    {
      "cell_type": "code",
      "execution_count": 1,
      "id": "1c24ac1e",
      "metadata": {
        "colab": {
          "base_uri": "https://localhost:8080/"
        },
        "id": "1c24ac1e",
        "outputId": "4a71b08f-9092-4f10-bd02-82ebca466639"
      },
      "outputs": [
        {
          "name": "stdout",
          "output_type": "stream",
          "text": [
            "Hello!\n",
            "Welcome to my program\n"
          ]
        }
      ],
      "source": [
        "print(\"Hello!\")\n",
        "print(\"Welcome to my program\")"
      ]
    }
  ],
  "metadata": {
    "colab": {
      "provenance": []
    },
    "kernelspec": {
      "display_name": "Python 3",
      "language": "python",
      "name": "python3"
    },
    "language_info": {
      "name": "python",
      "version": "3.11.9"
    }
  },
  "nbformat": 4,
  "nbformat_minor": 5
}
